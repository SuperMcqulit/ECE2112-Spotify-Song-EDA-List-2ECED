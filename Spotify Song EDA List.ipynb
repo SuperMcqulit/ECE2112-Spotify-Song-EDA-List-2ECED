{
 "cells": [
  {
   "cell_type": "markdown",
   "id": "7d46f85a-da5e-4dfe-b219-816c61437c8b",
   "metadata": {},
   "source": [
    "# Finding and Searching for Data while Cleaning"
   ]
  },
  {
   "cell_type": "code",
   "execution_count": 2,
   "id": "0cd93f33-34f3-4912-8b1f-ad609dd90ba4",
   "metadata": {},
   "outputs": [],
   "source": [
    "#Start of the Program\n",
    "#Import the necessary languages and libraries\n",
    "import numpy as np\n",
    "import pandas as pd\n",
    "import matplotlib.pyplot as plt\n",
    "import seaborn as sns"
   ]
  },
  {
   "cell_type": "markdown",
   "id": "263910b6-92e3-4013-97f6-62f9065609ea",
   "metadata": {},
   "source": [
    "### Overview of Dataset"
   ]
  },
  {
   "cell_type": "code",
   "execution_count": 4,
   "id": "0d1f027f-9872-4b14-ad20-0816258a9696",
   "metadata": {},
   "outputs": [
    {
     "data": {
      "text/html": [
       "<div>\n",
       "<style scoped>\n",
       "    .dataframe tbody tr th:only-of-type {\n",
       "        vertical-align: middle;\n",
       "    }\n",
       "\n",
       "    .dataframe tbody tr th {\n",
       "        vertical-align: top;\n",
       "    }\n",
       "\n",
       "    .dataframe thead th {\n",
       "        text-align: right;\n",
       "    }\n",
       "</style>\n",
       "<table border=\"1\" class=\"dataframe\">\n",
       "  <thead>\n",
       "    <tr style=\"text-align: right;\">\n",
       "      <th></th>\n",
       "      <th>track_name</th>\n",
       "      <th>artist(s)_name</th>\n",
       "      <th>artist_count</th>\n",
       "      <th>released_year</th>\n",
       "      <th>released_month</th>\n",
       "      <th>released_day</th>\n",
       "      <th>in_spotify_playlists</th>\n",
       "      <th>in_spotify_charts</th>\n",
       "      <th>streams</th>\n",
       "      <th>in_apple_playlists</th>\n",
       "      <th>...</th>\n",
       "      <th>bpm</th>\n",
       "      <th>key</th>\n",
       "      <th>mode</th>\n",
       "      <th>danceability_%</th>\n",
       "      <th>valence_%</th>\n",
       "      <th>energy_%</th>\n",
       "      <th>acousticness_%</th>\n",
       "      <th>instrumentalness_%</th>\n",
       "      <th>liveness_%</th>\n",
       "      <th>speechiness_%</th>\n",
       "    </tr>\n",
       "  </thead>\n",
       "  <tbody>\n",
       "    <tr>\n",
       "      <th>0</th>\n",
       "      <td>Seven (feat. Latto) (Explicit Ver.)</td>\n",
       "      <td>Latto, Jung Kook</td>\n",
       "      <td>2</td>\n",
       "      <td>2023</td>\n",
       "      <td>7</td>\n",
       "      <td>14</td>\n",
       "      <td>553</td>\n",
       "      <td>147</td>\n",
       "      <td>141381703</td>\n",
       "      <td>43</td>\n",
       "      <td>...</td>\n",
       "      <td>125</td>\n",
       "      <td>B</td>\n",
       "      <td>Major</td>\n",
       "      <td>80</td>\n",
       "      <td>89</td>\n",
       "      <td>83</td>\n",
       "      <td>31</td>\n",
       "      <td>0</td>\n",
       "      <td>8</td>\n",
       "      <td>4</td>\n",
       "    </tr>\n",
       "    <tr>\n",
       "      <th>1</th>\n",
       "      <td>LALA</td>\n",
       "      <td>Myke Towers</td>\n",
       "      <td>1</td>\n",
       "      <td>2023</td>\n",
       "      <td>3</td>\n",
       "      <td>23</td>\n",
       "      <td>1474</td>\n",
       "      <td>48</td>\n",
       "      <td>133716286</td>\n",
       "      <td>48</td>\n",
       "      <td>...</td>\n",
       "      <td>92</td>\n",
       "      <td>C#</td>\n",
       "      <td>Major</td>\n",
       "      <td>71</td>\n",
       "      <td>61</td>\n",
       "      <td>74</td>\n",
       "      <td>7</td>\n",
       "      <td>0</td>\n",
       "      <td>10</td>\n",
       "      <td>4</td>\n",
       "    </tr>\n",
       "    <tr>\n",
       "      <th>2</th>\n",
       "      <td>vampire</td>\n",
       "      <td>Olivia Rodrigo</td>\n",
       "      <td>1</td>\n",
       "      <td>2023</td>\n",
       "      <td>6</td>\n",
       "      <td>30</td>\n",
       "      <td>1397</td>\n",
       "      <td>113</td>\n",
       "      <td>140003974</td>\n",
       "      <td>94</td>\n",
       "      <td>...</td>\n",
       "      <td>138</td>\n",
       "      <td>F</td>\n",
       "      <td>Major</td>\n",
       "      <td>51</td>\n",
       "      <td>32</td>\n",
       "      <td>53</td>\n",
       "      <td>17</td>\n",
       "      <td>0</td>\n",
       "      <td>31</td>\n",
       "      <td>6</td>\n",
       "    </tr>\n",
       "    <tr>\n",
       "      <th>3</th>\n",
       "      <td>Cruel Summer</td>\n",
       "      <td>Taylor Swift</td>\n",
       "      <td>1</td>\n",
       "      <td>2019</td>\n",
       "      <td>8</td>\n",
       "      <td>23</td>\n",
       "      <td>7858</td>\n",
       "      <td>100</td>\n",
       "      <td>800840817</td>\n",
       "      <td>116</td>\n",
       "      <td>...</td>\n",
       "      <td>170</td>\n",
       "      <td>A</td>\n",
       "      <td>Major</td>\n",
       "      <td>55</td>\n",
       "      <td>58</td>\n",
       "      <td>72</td>\n",
       "      <td>11</td>\n",
       "      <td>0</td>\n",
       "      <td>11</td>\n",
       "      <td>15</td>\n",
       "    </tr>\n",
       "    <tr>\n",
       "      <th>4</th>\n",
       "      <td>WHERE SHE GOES</td>\n",
       "      <td>Bad Bunny</td>\n",
       "      <td>1</td>\n",
       "      <td>2023</td>\n",
       "      <td>5</td>\n",
       "      <td>18</td>\n",
       "      <td>3133</td>\n",
       "      <td>50</td>\n",
       "      <td>303236322</td>\n",
       "      <td>84</td>\n",
       "      <td>...</td>\n",
       "      <td>144</td>\n",
       "      <td>A</td>\n",
       "      <td>Minor</td>\n",
       "      <td>65</td>\n",
       "      <td>23</td>\n",
       "      <td>80</td>\n",
       "      <td>14</td>\n",
       "      <td>63</td>\n",
       "      <td>11</td>\n",
       "      <td>6</td>\n",
       "    </tr>\n",
       "    <tr>\n",
       "      <th>...</th>\n",
       "      <td>...</td>\n",
       "      <td>...</td>\n",
       "      <td>...</td>\n",
       "      <td>...</td>\n",
       "      <td>...</td>\n",
       "      <td>...</td>\n",
       "      <td>...</td>\n",
       "      <td>...</td>\n",
       "      <td>...</td>\n",
       "      <td>...</td>\n",
       "      <td>...</td>\n",
       "      <td>...</td>\n",
       "      <td>...</td>\n",
       "      <td>...</td>\n",
       "      <td>...</td>\n",
       "      <td>...</td>\n",
       "      <td>...</td>\n",
       "      <td>...</td>\n",
       "      <td>...</td>\n",
       "      <td>...</td>\n",
       "      <td>...</td>\n",
       "    </tr>\n",
       "    <tr>\n",
       "      <th>948</th>\n",
       "      <td>My Mind &amp; Me</td>\n",
       "      <td>Selena Gomez</td>\n",
       "      <td>1</td>\n",
       "      <td>2022</td>\n",
       "      <td>11</td>\n",
       "      <td>3</td>\n",
       "      <td>953</td>\n",
       "      <td>0</td>\n",
       "      <td>91473363</td>\n",
       "      <td>61</td>\n",
       "      <td>...</td>\n",
       "      <td>144</td>\n",
       "      <td>A</td>\n",
       "      <td>Major</td>\n",
       "      <td>60</td>\n",
       "      <td>24</td>\n",
       "      <td>39</td>\n",
       "      <td>57</td>\n",
       "      <td>0</td>\n",
       "      <td>8</td>\n",
       "      <td>3</td>\n",
       "    </tr>\n",
       "    <tr>\n",
       "      <th>949</th>\n",
       "      <td>Bigger Than The Whole Sky</td>\n",
       "      <td>Taylor Swift</td>\n",
       "      <td>1</td>\n",
       "      <td>2022</td>\n",
       "      <td>10</td>\n",
       "      <td>21</td>\n",
       "      <td>1180</td>\n",
       "      <td>0</td>\n",
       "      <td>121871870</td>\n",
       "      <td>4</td>\n",
       "      <td>...</td>\n",
       "      <td>166</td>\n",
       "      <td>F#</td>\n",
       "      <td>Major</td>\n",
       "      <td>42</td>\n",
       "      <td>7</td>\n",
       "      <td>24</td>\n",
       "      <td>83</td>\n",
       "      <td>1</td>\n",
       "      <td>12</td>\n",
       "      <td>6</td>\n",
       "    </tr>\n",
       "    <tr>\n",
       "      <th>950</th>\n",
       "      <td>A Veces (feat. Feid)</td>\n",
       "      <td>Feid, Paulo Londra</td>\n",
       "      <td>2</td>\n",
       "      <td>2022</td>\n",
       "      <td>11</td>\n",
       "      <td>3</td>\n",
       "      <td>573</td>\n",
       "      <td>0</td>\n",
       "      <td>73513683</td>\n",
       "      <td>2</td>\n",
       "      <td>...</td>\n",
       "      <td>92</td>\n",
       "      <td>C#</td>\n",
       "      <td>Major</td>\n",
       "      <td>80</td>\n",
       "      <td>81</td>\n",
       "      <td>67</td>\n",
       "      <td>4</td>\n",
       "      <td>0</td>\n",
       "      <td>8</td>\n",
       "      <td>6</td>\n",
       "    </tr>\n",
       "    <tr>\n",
       "      <th>951</th>\n",
       "      <td>En La De Ella</td>\n",
       "      <td>Feid, Sech, Jhayco</td>\n",
       "      <td>3</td>\n",
       "      <td>2022</td>\n",
       "      <td>10</td>\n",
       "      <td>20</td>\n",
       "      <td>1320</td>\n",
       "      <td>0</td>\n",
       "      <td>133895612</td>\n",
       "      <td>29</td>\n",
       "      <td>...</td>\n",
       "      <td>97</td>\n",
       "      <td>C#</td>\n",
       "      <td>Major</td>\n",
       "      <td>82</td>\n",
       "      <td>67</td>\n",
       "      <td>77</td>\n",
       "      <td>8</td>\n",
       "      <td>0</td>\n",
       "      <td>12</td>\n",
       "      <td>5</td>\n",
       "    </tr>\n",
       "    <tr>\n",
       "      <th>952</th>\n",
       "      <td>Alone</td>\n",
       "      <td>Burna Boy</td>\n",
       "      <td>1</td>\n",
       "      <td>2022</td>\n",
       "      <td>11</td>\n",
       "      <td>4</td>\n",
       "      <td>782</td>\n",
       "      <td>2</td>\n",
       "      <td>96007391</td>\n",
       "      <td>27</td>\n",
       "      <td>...</td>\n",
       "      <td>90</td>\n",
       "      <td>E</td>\n",
       "      <td>Minor</td>\n",
       "      <td>61</td>\n",
       "      <td>32</td>\n",
       "      <td>67</td>\n",
       "      <td>15</td>\n",
       "      <td>0</td>\n",
       "      <td>11</td>\n",
       "      <td>5</td>\n",
       "    </tr>\n",
       "  </tbody>\n",
       "</table>\n",
       "<p>953 rows × 24 columns</p>\n",
       "</div>"
      ],
      "text/plain": [
       "                              track_name      artist(s)_name  artist_count  \\\n",
       "0    Seven (feat. Latto) (Explicit Ver.)    Latto, Jung Kook             2   \n",
       "1                                   LALA         Myke Towers             1   \n",
       "2                                vampire      Olivia Rodrigo             1   \n",
       "3                           Cruel Summer        Taylor Swift             1   \n",
       "4                         WHERE SHE GOES           Bad Bunny             1   \n",
       "..                                   ...                 ...           ...   \n",
       "948                         My Mind & Me        Selena Gomez             1   \n",
       "949            Bigger Than The Whole Sky        Taylor Swift             1   \n",
       "950                 A Veces (feat. Feid)  Feid, Paulo Londra             2   \n",
       "951                        En La De Ella  Feid, Sech, Jhayco             3   \n",
       "952                                Alone           Burna Boy             1   \n",
       "\n",
       "     released_year  released_month  released_day  in_spotify_playlists  \\\n",
       "0             2023               7            14                   553   \n",
       "1             2023               3            23                  1474   \n",
       "2             2023               6            30                  1397   \n",
       "3             2019               8            23                  7858   \n",
       "4             2023               5            18                  3133   \n",
       "..             ...             ...           ...                   ...   \n",
       "948           2022              11             3                   953   \n",
       "949           2022              10            21                  1180   \n",
       "950           2022              11             3                   573   \n",
       "951           2022              10            20                  1320   \n",
       "952           2022              11             4                   782   \n",
       "\n",
       "     in_spotify_charts    streams  in_apple_playlists  ...  bpm key   mode  \\\n",
       "0                  147  141381703                  43  ...  125   B  Major   \n",
       "1                   48  133716286                  48  ...   92  C#  Major   \n",
       "2                  113  140003974                  94  ...  138   F  Major   \n",
       "3                  100  800840817                 116  ...  170   A  Major   \n",
       "4                   50  303236322                  84  ...  144   A  Minor   \n",
       "..                 ...        ...                 ...  ...  ...  ..    ...   \n",
       "948                  0   91473363                  61  ...  144   A  Major   \n",
       "949                  0  121871870                   4  ...  166  F#  Major   \n",
       "950                  0   73513683                   2  ...   92  C#  Major   \n",
       "951                  0  133895612                  29  ...   97  C#  Major   \n",
       "952                  2   96007391                  27  ...   90   E  Minor   \n",
       "\n",
       "    danceability_%  valence_% energy_% acousticness_%  instrumentalness_%  \\\n",
       "0               80         89       83             31                   0   \n",
       "1               71         61       74              7                   0   \n",
       "2               51         32       53             17                   0   \n",
       "3               55         58       72             11                   0   \n",
       "4               65         23       80             14                  63   \n",
       "..             ...        ...      ...            ...                 ...   \n",
       "948             60         24       39             57                   0   \n",
       "949             42          7       24             83                   1   \n",
       "950             80         81       67              4                   0   \n",
       "951             82         67       77              8                   0   \n",
       "952             61         32       67             15                   0   \n",
       "\n",
       "     liveness_%  speechiness_%  \n",
       "0             8              4  \n",
       "1            10              4  \n",
       "2            31              6  \n",
       "3            11             15  \n",
       "4            11              6  \n",
       "..          ...            ...  \n",
       "948           8              3  \n",
       "949          12              6  \n",
       "950           8              6  \n",
       "951          12              5  \n",
       "952          11              5  \n",
       "\n",
       "[953 rows x 24 columns]"
      ]
     },
     "execution_count": 4,
     "metadata": {},
     "output_type": "execute_result"
    }
   ],
   "source": [
    "#Save and load the following dataset for reference\n",
    "df = pd.read_csv('spotify-2023.csv', encoding='ISO-8859-1')\n",
    "df"
   ]
  },
  {
   "cell_type": "code",
   "execution_count": 5,
   "id": "ad92c0ff-2a99-476c-a309-33cf0f5ae2f8",
   "metadata": {},
   "outputs": [
    {
     "name": "stdout",
     "output_type": "stream",
     "text": [
      "The given spotify data have a total of  953  rows and  24  columns in total.\n"
     ]
    }
   ],
   "source": [
    "#Measure how many rows and column does the list have according to EDA\n",
    "#df.shape - show off the exact rows and columns including the title ones\n",
    "[R, C] = df.shape\n",
    "\n",
    "print(\"The given spotify data have a total of \", R, \" rows and \", C, \" columns in total.\")"
   ]
  },
  {
   "cell_type": "code",
   "execution_count": 6,
   "id": "dec1261a-7430-425b-a346-fcaa74bb4c6d",
   "metadata": {},
   "outputs": [
    {
     "name": "stdout",
     "output_type": "stream",
     "text": [
      "These are the following information about the Data Types of the Spotify Song List: \n",
      "\n",
      " track_name              object\n",
      "artist(s)_name          object\n",
      "artist_count             int64\n",
      "released_year            int64\n",
      "released_month           int64\n",
      "released_day             int64\n",
      "in_spotify_playlists     int64\n",
      "in_spotify_charts        int64\n",
      "streams                 object\n",
      "in_apple_playlists       int64\n",
      "in_apple_charts          int64\n",
      "in_deezer_playlists     object\n",
      "in_deezer_charts         int64\n",
      "in_shazam_charts        object\n",
      "bpm                      int64\n",
      "key                     object\n",
      "mode                    object\n",
      "danceability_%           int64\n",
      "valence_%                int64\n",
      "energy_%                 int64\n",
      "acousticness_%           int64\n",
      "instrumentalness_%       int64\n",
      "liveness_%               int64\n",
      "speechiness_%            int64\n",
      "dtype: object\n"
     ]
    }
   ],
   "source": [
    "#Find the Data Types of each Columns using the function df.dtypes\n",
    "a = df.dtypes\n",
    "\n",
    "print(\"These are the following information about the Data Types of the Spotify Song List:\", \"\\n\\n\", a)"
   ]
  },
  {
   "cell_type": "code",
   "execution_count": 7,
   "id": "9581605f-def6-44dd-a1ca-7e5be779fa43",
   "metadata": {},
   "outputs": [
    {
     "name": "stdout",
     "output_type": "stream",
     "text": [
      "The Missing values or Null spaces in each column are found to be: \n",
      "\n",
      " track_name               0\n",
      "artist(s)_name           0\n",
      "artist_count             0\n",
      "released_year            0\n",
      "released_month           0\n",
      "released_day             0\n",
      "in_spotify_playlists     0\n",
      "in_spotify_charts        0\n",
      "streams                  0\n",
      "in_apple_playlists       0\n",
      "in_apple_charts          0\n",
      "in_deezer_playlists      0\n",
      "in_deezer_charts         0\n",
      "in_shazam_charts        50\n",
      "bpm                      0\n",
      "key                     95\n",
      "mode                     0\n",
      "danceability_%           0\n",
      "valence_%                0\n",
      "energy_%                 0\n",
      "acousticness_%           0\n",
      "instrumentalness_%       0\n",
      "liveness_%               0\n",
      "speechiness_%            0\n",
      "dtype: int64\n"
     ]
    }
   ],
   "source": [
    "#Find if the Spotify List have Missing values or Null spaces\n",
    "b = df.isnull().sum()\n",
    "\n",
    "print(\"The Missing values or Null spaces in each column are found to be:\", \"\\n\\n\", b)"
   ]
  },
  {
   "cell_type": "markdown",
   "id": "ad060645-6008-47f8-9c8f-4a23eb8f0057",
   "metadata": {},
   "source": [
    "### Basic Descriptive Statistics"
   ]
  },
  {
   "cell_type": "code",
   "execution_count": 9,
   "id": "d77ce178-812e-47a1-9f59-ff42b30bf538",
   "metadata": {},
   "outputs": [],
   "source": [
    "#Change the column for streams to int so that it can be measured \"Used fron youtube video\"\n",
    "df['streams'] = pd.to_numeric(df['streams'], errors='coerce').astype('Int64')"
   ]
  },
  {
   "cell_type": "code",
   "execution_count": 10,
   "id": "81d214c1-f9fa-47e3-98cd-8dbe11591a3c",
   "metadata": {},
   "outputs": [
    {
     "name": "stdout",
     "output_type": "stream",
     "text": [
      "The Streams column have a mean of  514137424.93907565 , a median of  290530915.0 and a standard deviation of  566856949.038883 .\n"
     ]
    }
   ],
   "source": [
    "#Find the mean, median, and standard deviation of the following Columns (no more, no less): \"Streams Column\"\n",
    "c = df['streams'].mean()\n",
    "d = df['streams'].median()\n",
    "e = df['streams'].std()\n",
    "\n",
    "print(\"The Streams column have a mean of \", c, \", a median of \", d, \"and a standard deviation of \", e, \".\")"
   ]
  },
  {
   "cell_type": "code",
   "execution_count": 11,
   "id": "d37c059d-d9f5-4ff2-98f1-b66e74f829d3",
   "metadata": {},
   "outputs": [
    {
     "data": {
      "image/png": "[encoded data removed]",
      "text/plain": [
       "<Figure size 640x480 with 1 Axes>"
      ]
     },
     "metadata": {},
     "output_type": "display_data"
    },
    {
     "name": "stdout",
     "output_type": "stream",
     "text": [
      "Shown above is the Distribution based on the Released Year of the Songs.\n"
     ]
    }
   ],
   "source": [
    "#Find the distribution of the Released Year of the Data\n",
    "plt.hist(df['released_year'], bins=15, color='red')\n",
    "plt.title(\"Distribution of Released Year\")\n",
    "plt.xlabel(\"Year\")\n",
    "plt.ylabel(\"Rate\")\n",
    "plt.show()\n",
    "\n",
    "print(\"Shown above is the Distribution based on the Released Year of the Songs.\")"
   ]
  },
  {
   "cell_type": "code",
   "execution_count": 12,
   "id": "790dbd95-2d97-44bb-99f4-62e8aaa3869e",
   "metadata": {},
   "outputs": [
    {
     "data": {
      "image/png": "[encoded data removed]",
      "text/plain": [
       "<Figure size 640x480 with 1 Axes>"
      ]
     },
     "metadata": {},
     "output_type": "display_data"
    },
    {
     "name": "stdout",
     "output_type": "stream",
     "text": [
      "Shown above is the Distribution based on the Artist Count of the Songs.\n"
     ]
    }
   ],
   "source": [
    "#Find the distribution of the Artist Count of the Data\n",
    "plt.hist(df['artist_count'], bins=10, color='blue', )\n",
    "plt.title(\"Distribution of Artist Count\")\n",
    "plt.xlabel(\"Artist Count\")\n",
    "plt.ylabel(\"rate\")\n",
    "plt.show()\n",
    "\n",
    "print(\"Shown above is the Distribution based on the Artist Count of the Songs.\")"
   ]
  },
  {
   "cell_type": "markdown",
   "id": "559d81ec-8018-461a-be16-0a24c7d35c98",
   "metadata": {},
   "source": [
    "### Top Performers"
   ]
  },
  {
   "cell_type": "code",
   "execution_count": 14,
   "id": "13a8b43a-023f-446c-8409-165f72e9a9b1",
   "metadata": {},
   "outputs": [
    {
     "name": "stdout",
     "output_type": "stream",
     "text": [
      "Track with the highest number of streams is \n",
      "\n",
      " track_name              Blinding Lights\n",
      "artist(s)_name               The Weeknd\n",
      "artist_count                          1\n",
      "released_year                      2019\n",
      "released_month                       11\n",
      "released_day                         29\n",
      "in_spotify_playlists              43899\n",
      "in_spotify_charts                    69\n",
      "streams                      3703895074\n",
      "in_apple_playlists                  672\n",
      "in_apple_charts                     199\n",
      "in_deezer_playlists               3,421\n",
      "in_deezer_charts                     20\n",
      "in_shazam_charts                    NaN\n",
      "bpm                                 171\n",
      "key                                  C#\n",
      "mode                              Major\n",
      "danceability_%                       50\n",
      "valence_%                            38\n",
      "energy_%                             80\n",
      "acousticness_%                        0\n",
      "instrumentalness_%                    0\n",
      "liveness_%                            9\n",
      "speechiness_%                         7\n",
      "Name: 55, dtype: object\n"
     ]
    }
   ],
   "source": [
    "#Find the track who have the highest streams in the Spotify Data\n",
    "f = df.loc[df['streams'].idxmax()]\n",
    "\n",
    "print(\"Track with the highest number of streams is\", \"\\n\\n\", f,)"
   ]
  },
  {
   "cell_type": "code",
   "execution_count": 15,
   "id": "455a1e36-95a2-46dc-b4bf-612092d27b8b",
   "metadata": {},
   "outputs": [
    {
     "name": "stdout",
     "output_type": "stream",
     "text": [
      "The Top 5 most streamed tracks are the following:  \n",
      "\n",
      "                                         track_name     streams\n",
      "55                                 Blinding Lights  3703895074\n",
      "179                                   Shape of You  3562543890\n",
      "86                               Someone You Loved  2887241814\n",
      "620                                   Dance Monkey  2864791672\n",
      "41   Sunflower - Spider-Man: Into the Spider-Verse  2808096550\n"
     ]
    }
   ],
   "source": [
    "#Search for the Top 5 most streamed track in the data set\n",
    "g = df.nlargest(5, 'streams')[['track_name', 'streams']]\n",
    "\n",
    "print(\"The Top 5 most streamed tracks are the following: \", \"\\n\\n\", g)"
   ]
  },
  {
   "cell_type": "markdown",
   "id": "fd30d537-28cd-4eaf-ae30-fca4daaf6b65",
   "metadata": {},
   "source": [
    "### Temporal Trends"
   ]
  },
  {
   "cell_type": "code",
   "execution_count": 17,
   "id": "af22de29-1fec-4992-bb2f-fa329f920444",
   "metadata": {},
   "outputs": [
    {
     "data": {
      "image/png": "[encoded data removed]",
      "text/plain": [
       "<Figure size 1000x500 with 1 Axes>"
      ]
     },
     "metadata": {},
     "output_type": "display_data"
    },
    {
     "name": "stdout",
     "output_type": "stream",
     "text": [
      "The number of tracks released per month that follow a pattern is shown above \n"
     ]
    }
   ],
   "source": [
    "#Is there a number of tracks released per month that follow any noticeable patterns\n",
    "i = df['released_year'].value_counts().sort_index()\n",
    "\n",
    "plt.figure(figsize=(10, 5))\n",
    "i.plot(kind='bar', color='green')\n",
    "plt.title('Number of Tracks Released per Year')\n",
    "plt.xlabel('Year')\n",
    "plt.ylabel('Tracks Released')\n",
    "plt.xticks(rotation=45)\n",
    "plt.show()\n",
    "\n",
    "print(\"The number of tracks released per month that follow a pattern is shown above \")"
   ]
  },
  {
   "cell_type": "code",
   "execution_count": 18,
   "id": "f74a6451-bcce-4bb7-802f-0ecf3704564c",
   "metadata": {},
   "outputs": [
    {
     "data": {
      "image/png": "[encoded data removed]",
      "text/plain": [
       "<Figure size 1000x500 with 1 Axes>"
      ]
     },
     "metadata": {},
     "output_type": "display_data"
    },
    {
     "name": "stdout",
     "output_type": "stream",
     "text": [
      "The month with the most releases is  1 or Jan.\n"
     ]
    }
   ],
   "source": [
    "#Find which of the month sees the most releases\n",
    "j = df['released_month'].value_counts().sort_index()\n",
    "\n",
    "plt.figure(figsize=(10, 5))\n",
    "j.plot(kind='bar', color='lightgreen', edgecolor='black')\n",
    "plt.title('Number of Tracks Released per Month')\n",
    "plt.xlabel('Month')\n",
    "plt.ylabel('Number of Tracks Released')\n",
    "plt.xticks(range(12), ['Jan', 'Feb', 'Mar', 'Apr', 'May', 'Jun', 'Jul', 'Aug', 'Sep', 'Oct', 'Nov', 'Dec'])\n",
    "plt.show()\n",
    "\n",
    "k = j.idxmax()\n",
    "\n",
    "print(\"The month with the most releases is \", k, \"or Jan.\")"
   ]
  },
  {
   "cell_type": "markdown",
   "id": "1b18c27a-1d3d-46c1-b85f-da0eedd160d6",
   "metadata": {},
   "source": [
    "### Genre and Music Characteristics"
   ]
  },
  {
   "cell_type": "code",
   "execution_count": 20,
   "id": "36e2d4a0-6920-480e-8957-b0529fbc6437",
   "metadata": {},
   "outputs": [
    {
     "name": "stdout",
     "output_type": "stream",
     "text": [
      "The correlation for streams and other attributes is shown above.\n"
     ]
    },
    {
     "data": {
      "image/png": "[encoded data removed]",
      "text/plain": [
       "<Figure size 640x480 with 2 Axes>"
      ]
     },
     "metadata": {},
     "output_type": "display_data"
    }
   ],
   "source": [
    "#Calculate the correlation for streams and other attributes\n",
    "l = df.dropna(subset=['streams', 'bpm', 'danceability_%', 'energy_%'])\n",
    "m = l[['streams', 'bpm', 'danceability_%', 'energy_%']].corr()\n",
    "\n",
    "sns.heatmap(m, annot=True, cmap='coolwarm', fmt='.2f', vmin=-1, vmax=1)\n",
    "\n",
    "print(\"The correlation for streams and other attributes is shown above.\")"
   ]
  },
  {
   "cell_type": "markdown",
   "id": "d0e0a9ba-ec21-4376-8172-c2bd068f744f",
   "metadata": {},
   "source": [
    "### Platform Popularity"
   ]
  },
  {
   "cell_type": "code",
   "execution_count": 22,
   "id": "262f4266-e12c-44ae-a1f5-3f6a1e75d313",
   "metadata": {},
   "outputs": [
    {
     "name": "stdout",
     "output_type": "stream",
     "text": [
      "Index(['track_name', 'artist(s)_name', 'artist_count', 'released_year',\n",
      "       'released_month', 'released_day', 'in_spotify_playlists',\n",
      "       'in_spotify_charts', 'streams', 'in_apple_playlists', 'in_apple_charts',\n",
      "       'in_deezer_playlists', 'in_deezer_charts', 'in_shazam_charts', 'bpm',\n",
      "       'key', 'mode', 'danceability_%', 'valence_%', 'energy_%',\n",
      "       'acousticness_%', 'instrumentalness_%', 'liveness_%', 'speechiness_%'],\n",
      "      dtype='object')\n"
     ]
    }
   ],
   "source": [
    "#Find the column for faster and easier access to the Dataset\n",
    "print(df.columns)"
   ]
  },
  {
   "cell_type": "code",
   "execution_count": 23,
   "id": "052c98eb-eae9-4171-bee6-39b9231b1df6",
   "metadata": {},
   "outputs": [
    {
     "name": "stdout",
     "output_type": "stream",
     "text": [
      "The number of tracks in each platform are the following: \n",
      "\n",
      " 4955719  for in_spotify_playlists\n",
      "11445  for in_spotify_charts\n",
      "64625  for in_apple_playlists \n",
      "\n",
      "\n",
      "Therefore we conclude that in_spotify_playlists have the most favor in popular tracks\n"
     ]
    }
   ],
   "source": [
    "#Count the number of tracks in each platform for easier camparison over the data set\n",
    "n = df['in_spotify_playlists'].sum()\n",
    "o = df['in_spotify_charts'].sum()\n",
    "p = df['in_apple_playlists'].sum()\n",
    "\n",
    "print(\"The number of tracks in each platform are the following: \") \n",
    "print(\"\\n\", n, \" for in_spotify_playlists\" )\n",
    "print(o, \" for in_spotify_charts\")\n",
    "print(p, \" for in_apple_playlists\", \"\\n\\n\")\n",
    "print(\"Therefore we conclude that in_spotify_playlists have the most favor in popular tracks\")"
   ]
  },
  {
   "cell_type": "markdown",
   "id": "cbdb5e68-641a-48c6-ac20-737d3661db40",
   "metadata": {},
   "source": [
    "### Advanced Analysis"
   ]
  },
  {
   "cell_type": "code",
   "execution_count": 25,
   "id": "76d8f338-4cde-4ad6-9b6e-0d82a8f45f4a",
   "metadata": {},
   "outputs": [
    {
     "name": "stdout",
     "output_type": "stream",
     "text": [
      "The analyzed streams based on Key and Mode are the following: (AVERAGED) \n",
      "\n",
      "    key   mode           streams\n",
      "0    A  Major  401960332.585366\n",
      "1    A  Minor  417390630.969697\n",
      "2   A#  Major  627533592.148148\n",
      "3   A#  Minor       484923094.2\n",
      "4    B  Major  436333624.942857\n",
      "5    B  Minor   582511036.23913\n",
      "6   C#  Major   628588294.20548\n",
      "7   C#  Minor  566525199.276596\n",
      "8    D  Major  572017994.909091\n",
      "9    D  Minor  342558842.066667\n",
      "10  D#  Major  681962300.166667\n",
      "11  D#  Minor  479364677.285714\n",
      "12   E  Major  760596278.764706\n",
      "13   E  Minor  508326422.044444\n",
      "14   F  Major       527931052.5\n",
      "15   F  Minor  410283606.888889\n",
      "16  F#  Major  417544999.566667\n",
      "17  F#  Minor  595492093.883721\n",
      "18   G  Major  492981262.454545\n",
      "19   G  Minor       363759305.7\n",
      "20  G#  Major  545804415.190476\n",
      "21  G#  Minor  321903624.357143\n"
     ]
    }
   ],
   "source": [
    "#Calculate average streams based on the key and mode in the dataset\n",
    "q = df.groupby(['key', 'mode'], observed = False)['streams'].mean().reset_index()\n",
    "\n",
    "print(\"The analyzed streams based on Key and Mode are the following: (AVERAGED)\", \"\\n\\n\", q)"
   ]
  },
  {
   "cell_type": "code",
   "execution_count": 43,
   "id": "8e933361-555a-49a0-b6d8-c2d466fef003",
   "metadata": {},
   "outputs": [
    {
     "name": "stdout",
     "output_type": "stream",
     "text": [
      "Top most frequent artists that can be found in the playlists are... \n",
      " artist(s)_name\n",
      "Taylor Swift    34\n",
      "The Weeknd      22\n",
      "Bad Bunny       19\n",
      "SZA             19\n",
      "Harry Styles    17\n",
      "Name: count, dtype: int64\n",
      "\n",
      " while... \n",
      "\n",
      "Top most frequent artists that can be found in the charts are... \n",
      " artist(s)_name\n",
      "Taylor Swift    34\n",
      "The Weeknd      22\n",
      "Bad Bunny       19\n",
      "SZA             19\n",
      "Harry Styles    17\n",
      "Name: count, dtype: int64\n"
     ]
    }
   ],
   "source": [
    "#Analyze the data to compare the most frequently appearing artists in playlists or charts.\n",
    "r = df[df['in_spotify_playlists'].notnull()]['artist(s)_name'].value_counts()\n",
    "s = df[df['in_spotify_charts'].notnull()]['artist(s)_name'].value_counts()\n",
    "\n",
    "print(\"Top most frequent artists that can be found in the playlists are...\", \"\\n\", r.head())\n",
    "print(\"\\n\", \"while...\", \"\\n\")\n",
    "print(\"Top most frequent artists that can be found in the charts are...\", \"\\n\", s.head())"
   ]
  },
  {
   "cell_type": "code",
   "execution_count": null,
   "id": "21540258-9414-41e8-b9ba-0ffc75f62389",
   "metadata": {},
   "outputs": [],
   "source": []
  }
 ],
 "metadata": {
  "kernelspec": {
   "display_name": "Python 3 (ipykernel)",
   "language": "python",
   "name": "python3"
  },
  "language_info": {
   "codemirror_mode": {
    "name": "ipython",
    "version": 3
   },
   "file_extension": ".py",
   "mimetype": "text/x-python",
   "name": "python",
   "nbconvert_exporter": "python",
   "pygments_lexer": "ipython3",
   "version": "3.12.4"
  }
 },
 "nbformat": 4,
 "nbformat_minor": 5
}
